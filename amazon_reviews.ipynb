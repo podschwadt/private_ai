{
  "nbformat": 4,
  "nbformat_minor": 0,
  "metadata": {
    "colab": {
      "name": "amazon_reviews.ipynb",
      "provenance": [],
      "collapsed_sections": [],
      "authorship_tag": "ABX9TyNAcyzxrZajVm4FXaiSYalT",
      "include_colab_link": true
    },
    "kernelspec": {
      "name": "python3",
      "display_name": "Python 3"
    }
  },
  "cells": [
    {
      "cell_type": "markdown",
      "metadata": {
        "id": "view-in-github",
        "colab_type": "text"
      },
      "source": [
        "<a href=\"https://colab.research.google.com/github/podschwadt/private_ai/blob/master/amazon_reviews.ipynb\" target=\"_parent\"><img src=\"https://colab.research.google.com/assets/colab-badge.svg\" alt=\"Open In Colab\"/></a>"
      ]
    },
    {
      "cell_type": "code",
      "metadata": {
        "id": "DAIF4_kVeDsd",
        "colab_type": "code",
        "colab": {}
      },
      "source": [
        "!git clone https://github.com/podschwadt/private_ai.git\n",
        "import sys\n",
        "sys.path.append( '/content/private_ai/privateai/data' )"
      ],
      "execution_count": 0,
      "outputs": []
    },
    {
      "cell_type": "markdown",
      "metadata": {
        "id": "r4VXSe19VR7d",
        "colab_type": "text"
      },
      "source": [
        "This downloads all the data files we need for top 20k words and max sequence length. Other configurations are not precomputed and require access to the raw data to compute\n"
      ]
    },
    {
      "cell_type": "code",
      "metadata": {
        "id": "RWLFv6lUhe51",
        "colab_type": "code",
        "colab": {}
      },
      "source": [
        "!wget --load-cookies /tmp/cookies.txt \"https://docs.google.com/uc?export=download&confirm=$(wget --quiet --save-cookies /tmp/cookies.txt --keep-session-cookies --no-check-certificate 'https://docs.google.com/uc?export=download&id=1eM3hv7qsRJM7YhCgKD3gf5aIDTvpnn49' -O- | sed -rn 's/.*confirm=([0-9A-Za-z_]+).*/\\1\\n/p')&id=1eM3hv7qsRJM7YhCgKD3gf5aIDTvpnn49\" -O data_20000_200.npz  && rm -rf /tmp/cookies.txt\n",
        "!wget --load-cookies /tmp/cookies.txt \"https://docs.google.com/uc?export=download&confirm=$(wget --quiet --save-cookies /tmp/cookies.txt --keep-session-cookies --no-check-certificate 'https://docs.google.com/uc?export=download&id=1laX1b3jPOk2FLYzyc6e8JdnS8tUCaf1C' -O- | sed -rn 's/.*confirm=([0-9A-Za-z_]+).*/\\1\\n/p')&id=1laX1b3jPOk2FLYzyc6e8JdnS8tUCaf1C\" -O embedding_20000_200.npz   && rm -rf /tmp/cookies.txt"
      ],
      "execution_count": 0,
      "outputs": []
    },
    {
      "cell_type": "code",
      "metadata": {
        "id": "0vHS-A5-u2Ma",
        "colab_type": "code",
        "colab": {}
      },
      "source": [
        "# noramlly we dont need the embeddings file\n",
        "#!wget --load-cookies /tmp/cookies.txt \"https://docs.google.com/uc?export=download&confirm=$(wget --quiet --save-cookies /tmp/cookies.txt --keep-session-cookies --no-check-certificate 'https://docs.google.com/uc?export=download&id=1P3FzoIg-byBn9V-u7aVGPyyD_Z4pEP43' -O- | sed -rn 's/.*confirm=([0-9A-Za-z_]+).*/\\1\\n/p')&id=1P3FzoIg-byBn9V-u7aVGPyyD_Z4pEP43\" -O glove.6B.100d.txt    && rm -rf /tmp/cookies.txt"
      ],
      "execution_count": 0,
      "outputs": []
    },
    {
      "cell_type": "code",
      "metadata": {
        "id": "OUvPkjaleo4g",
        "colab_type": "code",
        "colab": {}
      },
      "source": [
        "import preprocess\n",
        "preprocess.stick_everything_into_cwd()\n",
        "import preprocess_glove\n",
        "preprocess_glove.stick_everything_into_cwd()\n",
        "\n",
        "# loading the data\n",
        "(x_train, y_train), (x_val, y_val) = preprocess_glove.load_data()\n",
        "# loading the embedding layer\n",
        "embedding_layer = preprocess_glove.load_embedding_layer()\n"
      ],
      "execution_count": 0,
      "outputs": []
    }
  ]
}